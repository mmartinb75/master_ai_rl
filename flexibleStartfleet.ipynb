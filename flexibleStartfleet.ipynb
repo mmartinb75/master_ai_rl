{
 "cells": [
  {
   "cell_type": "code",
   "execution_count": 5,
   "id": "d6ea00e9",
   "metadata": {},
   "outputs": [
    {
     "name": "stdout",
     "output_type": "stream",
     "text": [
      "Distancias: (14, 14), Ciudades: 14\n"
     ]
    }
   ],
   "source": [
    "# Cargar los datos reales\n",
    "import numpy as np\n",
    "distances = np.loadtxt(\"data/distances.csv\", delimiter=\";\")\n",
    "cities = np.loadtxt(\"data/cities.csv\", delimiter=\";\", dtype=str)\n",
    "\n",
    "print(f\"Distancias: {distances.shape}, Ciudades: {len(cities)}\")"
   ]
  },
  {
   "cell_type": "code",
   "execution_count": 5,
   "id": "348a2620",
   "metadata": {},
   "outputs": [],
   "source": [
    "distance_matrix = np.array([\n",
    "    [0, 1, 5],\n",
    "    [1, 0, 2],\n",
    "    [5, 2, 0]\n",
    "], dtype=np.float32)"
   ]
  },
  {
   "cell_type": "code",
   "execution_count": 8,
   "id": "323b8a3c",
   "metadata": {},
   "outputs": [],
   "source": [
    "import gymnasium as gym\n",
    "from gymnasium import spaces\n",
    "import numpy as np\n",
    "\n",
    "class TSPEnv(gym.Env):\n",
    "    def __init__(self, distance_matrix):\n",
    "        self.distance_matrix = distance_matrix\n",
    "        self.N = distance_matrix.shape[0] - 1  # número de ciudades\n",
    "        self.action_space = spaces.Discrete(self.N + 1)\n",
    "        self.observation_space = spaces.Box(\n",
    "            low=0.0, high=1.0, shape=(2 * (self.N + 1),), dtype=np.float32\n",
    "        )\n",
    "        self.cum_reward = 0\n",
    "\n",
    "    def reset(self, seed=None, options=None):\n",
    "        super().reset(seed=seed)\n",
    "        if options and \"start_city\" in options:\n",
    "            self.start_city = options[\"start_city\"]\n",
    "        else:\n",
    "            self.start_city = np.random.randint(0, self.N + 1)\n",
    "\n",
    "        self.current_city = self.start_city\n",
    "        self.visited = np.zeros(self.N + 1, dtype=np.float32)\n",
    "        self.visited[self.start_city] = 1\n",
    "        self.total_distance = 0\n",
    "        self.count = 0\n",
    "        self.cum_reward = 0\n",
    "        return self._get_obs(), {}\n",
    "\n",
    "    def step(self, action):\n",
    "        done = False\n",
    "\n",
    "        if action == self.current_city or (self.visited[action] and action != self.start_city):\n",
    "            return self._get_obs(), -100.0, True, False, {}\n",
    "\n",
    "        distance = self.distance_matrix[self.current_city][action]\n",
    "        reward = -distance\n",
    "        self.total_distance += distance\n",
    "        self.current_city = action\n",
    "        self.cum_reward += reward\n",
    "\n",
    "        if action != self.start_city:\n",
    "            self.visited[action] = 1\n",
    "\n",
    "        self.count += 1\n",
    "\n",
    "        if all(self.visited) and self.current_city == self.start_city:\n",
    "            reward += - self.cum_reward\n",
    "            done = True\n",
    "\n",
    "        return self._get_obs(), reward, done, False, {}\n",
    "\n",
    "    def _get_obs(self):\n",
    "        one_hot_current = np.zeros(self.N + 1, dtype=np.float32)\n",
    "        one_hot_current[self.current_city] = 1\n",
    "        return np.concatenate([self.visited, one_hot_current])"
   ]
  },
  {
   "cell_type": "code",
   "execution_count": 11,
   "id": "4f29e078",
   "metadata": {},
   "outputs": [],
   "source": [
    "from stable_baselines3 import DQN"
   ]
  },
  {
   "cell_type": "code",
   "execution_count": 12,
   "id": "8f127904",
   "metadata": {},
   "outputs": [],
   "source": [
    "\n",
    "\n",
    "env = TSPEnv(distance_matrix)\n",
    "\n",
    "model = DQN(\n",
    "    \"MlpPolicy\",\n",
    "    env,\n",
    "    verbose=0,\n",
    "    exploration_fraction=1.0,\n",
    "    exploration_initial_eps=1.0,\n",
    "    exploration_final_eps=0.05,\n",
    "    learning_starts=1000,\n",
    "    train_freq=1,\n",
    "    buffer_size=10_000,\n",
    "    batch_size=64,\n",
    "    gamma=0.95,\n",
    "    target_update_interval=250\n",
    ")\n",
    "\n",
    "#model.learn(total_timesteps=150_000)"
   ]
  },
  {
   "cell_type": "code",
   "execution_count": null,
   "id": "dad27afe",
   "metadata": {},
   "outputs": [],
   "source": [
    "model.learn(total_timesteps=150_000)"
   ]
  },
  {
   "cell_type": "code",
   "execution_count": 14,
   "id": "4c5e911a",
   "metadata": {},
   "outputs": [
    {
     "name": "stdout",
     "output_type": "stream",
     "text": [
      "[0. 1. 0. 0. 1. 0.]\n",
      "ACTION: 0\n",
      "OBS: [1. 1. 0. 1. 0. 0.]\n",
      "REWARD: -1.0\n",
      "ACTION: 1\n",
      "OBS: [1. 1. 0. 0. 1. 0.]\n",
      "REWARD: -1.0\n",
      "ACTION: 2\n",
      "OBS: [1. 1. 1. 0. 0. 1.]\n",
      "REWARD: -2.0\n",
      "ACTION: 0\n",
      "OBS: [1. 1. 1. 0. 0. 1.]\n",
      "REWARD: -100.0\n"
     ]
    }
   ],
   "source": [
    "obs, _ = env.reset(options = {\"start_city\":1})\n",
    "done = False\n",
    "print(obs)\n",
    "while not done:\n",
    "    action, _ = model.predict(obs, deterministic=True)\n",
    "    print(f\"ACTION: {action}\")\n",
    "    obs, reward, done, _, info = env.step(action)\n",
    "    print(f\"OBS: {obs}\")\n",
    "    print(f\"REWARD: {reward}\")"
   ]
  },
  {
   "cell_type": "code",
   "execution_count": 13,
   "id": "e749b0ec",
   "metadata": {},
   "outputs": [],
   "source": [
    "# ========= Generar matriz aleatoria de distancias =========\n",
    "def generate_random_distance_matrix(n_cities, seed=None):\n",
    "    if seed is not None:\n",
    "        np.random.seed(seed)\n",
    "    coords = np.random.rand(n_cities, 2) * 100  # coordenadas en un mapa 100x100\n",
    "    dist_matrix = np.linalg.norm(coords[:, None, :] - coords[None, :, :], axis=-1)\n",
    "    return dist_matrix, coords"
   ]
  },
  {
   "cell_type": "code",
   "execution_count": 14,
   "id": "cd7db955",
   "metadata": {},
   "outputs": [],
   "source": [
    "n_cities = 6  # puedes cambiarlo a 5, 7, 10...\n",
    "distance_matrix, coords = generate_random_distance_matrix(n_cities, seed=42)"
   ]
  },
  {
   "cell_type": "code",
   "execution_count": 15,
   "id": "8f5f2965",
   "metadata": {},
   "outputs": [
    {
     "data": {
      "text/plain": [
       "<stable_baselines3.dqn.dqn.DQN at 0x319356390>"
      ]
     },
     "execution_count": 15,
     "metadata": {},
     "output_type": "execute_result"
    }
   ],
   "source": [
    "env = TSPEnv(distance_matrix)\n",
    "\n",
    "model = DQN(\n",
    "    \"MlpPolicy\",\n",
    "    env,\n",
    "    verbose=0,\n",
    "    exploration_fraction=1.0,\n",
    "    exploration_initial_eps=1.0,\n",
    "    exploration_final_eps=0.05,\n",
    "    learning_starts=10000,\n",
    "    train_freq=1,\n",
    "    buffer_size=10_000,\n",
    "    batch_size=64,\n",
    "    gamma=0.95,\n",
    "    target_update_interval=250\n",
    ")\n",
    "\n",
    "model.learn(total_timesteps=150_000)"
   ]
  },
  {
   "cell_type": "code",
   "execution_count": 26,
   "id": "0d3692a6",
   "metadata": {},
   "outputs": [
    {
     "name": "stdout",
     "output_type": "stream",
     "text": [
      "ACTION: 1\n",
      "REWARD: -50.17136010769449\n",
      "ACTION: 4\n",
      "REWARD: -17.05893848218244\n",
      "ACTION: 0\n",
      "REWARD: -33.19807081074011\n",
      "ACTION: 5\n",
      "REWARD: -35.44757440621362\n",
      "ACTION: 0\n",
      "REWARD: -35.44757440621362\n",
      "ACTION: 2\n",
      "REWARD: -82.4215490573505\n",
      "ACTION: 0\n",
      "REWARD: -82.4215490573505\n",
      "ACTION: 3\n",
      "REWARD: -32.75536921225664\n",
      "ACTION: 0\n",
      "REWARD: 67.24463078774336\n"
     ]
    }
   ],
   "source": [
    "obs, _ = env.reset()\n",
    "done = False\n",
    "while not done:\n",
    "    action, _ = model.predict(obs, deterministic=True)\n",
    "    print(f\"ACTION: {action}\")\n",
    "    obs, reward, done, _, info = env.step(action)\n",
    "    print(f\"REWARD: {reward}\")"
   ]
  },
  {
   "cell_type": "code",
   "execution_count": null,
   "id": "d60460d9",
   "metadata": {},
   "outputs": [],
   "source": []
  },
  {
   "cell_type": "code",
   "execution_count": 13,
   "id": "6989350a",
   "metadata": {},
   "outputs": [
    {
     "data": {
      "text/plain": [
       "Box(0.0, 1.0, (12,), float32)"
      ]
     },
     "execution_count": 13,
     "metadata": {},
     "output_type": "execute_result"
    }
   ],
   "source": [
    "env.observation_space"
   ]
  }
 ],
 "metadata": {
  "kernelspec": {
   "display_name": "rl_course",
   "language": "python",
   "name": "python3"
  },
  "language_info": {
   "codemirror_mode": {
    "name": "ipython",
    "version": 3
   },
   "file_extension": ".py",
   "mimetype": "text/x-python",
   "name": "python",
   "nbconvert_exporter": "python",
   "pygments_lexer": "ipython3",
   "version": "3.12.9"
  }
 },
 "nbformat": 4,
 "nbformat_minor": 5
}
