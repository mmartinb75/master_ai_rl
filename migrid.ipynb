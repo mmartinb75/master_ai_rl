{
 "cells": [
  {
   "cell_type": "code",
   "execution_count": 4,
   "id": "0b2b2ec3",
   "metadata": {},
   "outputs": [],
   "source": [
    "from IPython.display import display, clear_output\n",
    "import numpy as np\n",
    "import gymnasium as gym\n",
    "import minigrid\n",
    "from minigrid.wrappers import FullyObsWrapper"
   ]
  },
  {
   "cell_type": "code",
   "execution_count": null,
   "id": "af024f65",
   "metadata": {},
   "outputs": [],
   "source": [
    "\n",
    "\n",
    "# Create the environment\n",
    "env = gym.make(\"MiniGrid-Empty-6x6-v0\", render_mode=\"human\")\n",
    "\n",
    "# Reset the environment\n",
    "observation, info = env.reset(seed=42)\n",
    "\n",
    "# Take a few random steps\n",
    "done = False\n",
    "while not done:\n",
    "    action = env.action_space.sample()  # Take random actions\n",
    "    observation, reward, terminated, truncated, info = env.step(action)\n",
    "    done = terminated or truncated\n",
    "\n",
    "# Close the environment window\n",
    "env.close()\n"
   ]
  },
  {
   "cell_type": "code",
   "execution_count": 5,
   "id": "9d418cd0",
   "metadata": {},
   "outputs": [],
   "source": [
    "env = gym.make(\"MiniGrid-Empty-8x8-v0\")\n",
    "env = FullyObsWrapper(env)"
   ]
  },
  {
   "cell_type": "code",
   "execution_count": 13,
   "id": "40781f6d",
   "metadata": {},
   "outputs": [],
   "source": [
    "grid_size = env.unwrapped.width * env.unwrapped.height"
   ]
  },
  {
   "cell_type": "code",
   "execution_count": 16,
   "id": "9cc7772a",
   "metadata": {},
   "outputs": [],
   "source": [
    "# Define state space (agent_pos + direction)\n",
    "state_space = []\n",
    "for x in range(env.unwrapped.width):\n",
    "    for y in range(env.unwrapped.height):\n",
    "        for dir in range(4):  # 0: right, 1: down, 2: left, 3: up\n",
    "            state_space.append((x, y, dir))"
   ]
  },
  {
   "cell_type": "code",
   "execution_count": 8,
   "id": "de6a0e5b",
   "metadata": {},
   "outputs": [
    {
     "name": "stderr",
     "output_type": "stream",
     "text": [
      "/Users/mmartin/opt/anaconda3/envs/rl_course/lib/python3.12/site-packages/gymnasium/envs/registration.py:736: UserWarning: \u001b[33mWARN: The environment is being initialised with render_mode='ansi' that is not in the possible render_modes (['human', 'rgb_array']).\u001b[0m\n",
      "  logger.warn(\n"
     ]
    }
   ],
   "source": [
    "#while not done:\n",
    "env2 = gym.make(\"MiniGrid-Empty-8x8-v0\", render_mode=\"ansi\")\n",
    "while not done:\n",
    "    action = env.action_space.sample() # muestreamos una acción al azar\n",
    "    state, reward, done, truncated,info = env2.step(action)\n",
    "    done = terminated or truncated # ejecutamos dicha acción en nuestro entorno.\n",
    "    clear_output(wait=True)\n",
    "    print(env.render())\n",
    "    time.sleep(1)\n",
    "    "
   ]
  }
 ],
 "metadata": {
  "kernelspec": {
   "display_name": "rl_course",
   "language": "python",
   "name": "python3"
  },
  "language_info": {
   "codemirror_mode": {
    "name": "ipython",
    "version": 3
   },
   "file_extension": ".py",
   "mimetype": "text/x-python",
   "name": "python",
   "nbconvert_exporter": "python",
   "pygments_lexer": "ipython3",
   "version": "3.12.9"
  }
 },
 "nbformat": 4,
 "nbformat_minor": 5
}
