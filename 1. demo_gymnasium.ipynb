{
 "cells": [
  {
   "cell_type": "code",
   "execution_count": 4,
   "id": "b31522ee",
   "metadata": {},
   "outputs": [],
   "source": [
    "from IPython.display import display, clear_output"
   ]
  },
  {
   "cell_type": "code",
   "execution_count": 1,
   "id": "f64734da",
   "metadata": {},
   "outputs": [],
   "source": [
    "import gymnasium as gym\n",
    "\n",
    "# mediante la función make creamos el entorno de rl a simular (taxi-v3)\n",
    "# el entorno consiste en la simulación de un proceso de decisión de markov.\n",
    "#env = gym.make(\"Taxi-v3\", render_mode=\"rgb_array_list\")\n",
    "env = gym.make(\"Taxi-v3\", render_mode=\"ansi\")"
   ]
  },
  {
   "cell_type": "code",
   "execution_count": 2,
   "id": "81ec7473",
   "metadata": {},
   "outputs": [],
   "source": [
    "observation, info = env.reset(seed=42)"
   ]
  },
  {
   "cell_type": "code",
   "execution_count": 6,
   "id": "fde94dd2",
   "metadata": {},
   "outputs": [
    {
     "data": {
      "text/plain": [
       "{'prob': 1.0, 'action_mask': array([1, 1, 0, 1, 0, 0], dtype=int8)}"
      ]
     },
     "execution_count": 6,
     "metadata": {},
     "output_type": "execute_result"
    }
   ],
   "source": [
    "info"
   ]
  },
  {
   "cell_type": "code",
   "execution_count": 10,
   "id": "1fe3d0b8",
   "metadata": {},
   "outputs": [
    {
     "data": {
      "text/plain": [
       "{'n': np.int64(500),\n",
       " 'start': np.int64(0),\n",
       " '_shape': (),\n",
       " 'dtype': dtype('int64'),\n",
       " '_np_random': None}"
      ]
     },
     "execution_count": 10,
     "metadata": {},
     "output_type": "execute_result"
    }
   ],
   "source": [
    "env.observation_space.__dict__"
   ]
  },
  {
   "cell_type": "code",
   "execution_count": 7,
   "id": "9669d26e",
   "metadata": {},
   "outputs": [
    {
     "name": "stdout",
     "output_type": "stream",
     "text": [
      "+---------+\n",
      "|R: | : :\u001b[34;1mG\u001b[0m|\n",
      "| : | : : |\n",
      "| : : :\u001b[43m \u001b[0m: |\n",
      "| | : | : |\n",
      "|\u001b[35mY\u001b[0m| : |B: |\n",
      "+---------+\n",
      "  (West)\n",
      "\n"
     ]
    }
   ],
   "source": [
    "import time\n",
    "epochs = 0\n",
    "done = False\n",
    "\n",
    "#while not done:\n",
    "for i in range(50):\n",
    "    action = env.action_space.sample() # muestreamos una acción al azar\n",
    "    state, reward, done, truncated,info = env.step(action) # ejecutamos dicha acción en nuestro entorno.\n",
    "    time.sleep(0.1)\n",
    "    clear_output(wait=True)\n",
    "    print(env.render())\n",
    "    "
   ]
  },
  {
   "cell_type": "code",
   "execution_count": null,
   "id": "9b153c99",
   "metadata": {},
   "outputs": [
    {
     "name": "stdout",
     "output_type": "stream",
     "text": [
      "+---------+\n",
      "|R: | : :\u001b[34;1mG\u001b[0m|\n",
      "| : | : : |\n",
      "| : : : : |\n",
      "| | : | : |\n",
      "|\u001b[35mY\u001b[0m| :\u001b[43m \u001b[0m|B: |\n",
      "+---------+\n",
      "  (South)\n",
      "\r"
     ]
    }
   ],
   "source": []
  }
 ],
 "metadata": {
  "kernelspec": {
   "display_name": "rl_course",
   "language": "python",
   "name": "python3"
  },
  "language_info": {
   "codemirror_mode": {
    "name": "ipython",
    "version": 3
   },
   "file_extension": ".py",
   "mimetype": "text/x-python",
   "name": "python",
   "nbconvert_exporter": "python",
   "pygments_lexer": "ipython3",
   "version": "3.12.9"
  }
 },
 "nbformat": 4,
 "nbformat_minor": 5
}
