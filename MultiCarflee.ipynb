{
 "cells": [
  {
   "cell_type": "code",
   "execution_count": 5,
   "id": "d6ea00e9",
   "metadata": {},
   "outputs": [
    {
     "name": "stdout",
     "output_type": "stream",
     "text": [
      "Distancias: (14, 14), Ciudades: 14\n"
     ]
    }
   ],
   "source": [
    "# Cargar los datos reales\n",
    "import numpy as np\n",
    "distances = np.loadtxt(\"data/distances.csv\", delimiter=\";\")\n",
    "cities = np.loadtxt(\"data/cities.csv\", delimiter=\";\", dtype=str)\n",
    "\n",
    "print(f\"Distancias: {distances.shape}, Ciudades: {len(cities)}\")"
   ]
  },
  {
   "cell_type": "code",
   "execution_count": 5,
   "id": "348a2620",
   "metadata": {},
   "outputs": [],
   "source": [
    "distance_matrix = np.array([\n",
    "    [0, 1, 5],\n",
    "    [1, 0, 2],\n",
    "    [5, 2, 0]\n",
    "], dtype=np.float32)"
   ]
  },
  {
   "cell_type": "code",
   "execution_count": 12,
   "id": "323b8a3c",
   "metadata": {},
   "outputs": [],
   "source": [
    "import gymnasium as gym\n",
    "from gymnasium import spaces\n",
    "import numpy as np\n",
    "\n",
    "class MultiCarTSPEnv(gym.Env):\n",
    "    def __init__(self, distance_matrix, num_vehicles=2):\n",
    "        self.distance_matrix = distance_matrix\n",
    "        self.N = distance_matrix.shape[0] - 1  # number of cities\n",
    "        self.num_vehicles = num_vehicles\n",
    "        self.action_space = spaces.Discrete(self.N + 1)\n",
    "        \n",
    "        # visited (N+1), current city per vehicle (num_vehicles), active vehicle one-hot (num_vehicles)\n",
    "        self.observation_space = spaces.Box(\n",
    "            low=0.0,\n",
    "            high=1.0,\n",
    "            shape=(self.N + 1 + self.num_vehicles + self.num_vehicles,),\n",
    "            dtype=np.float32\n",
    "        )\n",
    "\n",
    "    def reset(self, seed=None, options=None):\n",
    "        super().reset(seed=seed)\n",
    "        self.visited = np.zeros(self.N + 1, dtype=np.float32)\n",
    "        self.vehicle_positions = np.random.choice(self.N + 1, self.num_vehicles, replace=True)\n",
    "        self.vehicle_rewards = np.zeros(self.num_vehicles, dtype=np.float32)\n",
    "        self.vehicle_routes = [[] for _ in range(self.num_vehicles)]\n",
    "        self.active_vehicle = 0\n",
    "        for pos in self.vehicle_positions:\n",
    "            self.visited[pos] = 1\n",
    "        return self._get_obs(), {}\n",
    "\n",
    "    def step(self, action):\n",
    "        vehicle = self.active_vehicle\n",
    "        current_city = self.vehicle_positions[vehicle]\n",
    "        reward = 0.0\n",
    "        done = False\n",
    "\n",
    "        if action == current_city:\n",
    "            return self._get_obs(), -100, False, False, {}\n",
    "\n",
    "        if action == current_city or self.visited[action]:\n",
    "            reward = -100.0\n",
    "            done = False\n",
    "        else:\n",
    "            distance = self.distance_matrix[current_city][action]\n",
    "            reward = -distance\n",
    "            self.vehicle_positions[vehicle] = action\n",
    "            self.visited[action] = 1\n",
    "            self.vehicle_routes[vehicle].append(action)\n",
    "            self.vehicle_rewards[vehicle] += reward\n",
    "\n",
    "        # Check if all cities have been visited\n",
    "        if all(self.visited):\n",
    "            done = True\n",
    "            reward += 100.0  # global bonus\n",
    "\n",
    "        # Switch turn\n",
    "        self.active_vehicle = (self.active_vehicle + 1) % self.num_vehicles\n",
    "        return self._get_obs(), reward, done, False, {}\n",
    "\n",
    "    def _get_obs(self):\n",
    "        active_vehicle_one_hot = np.zeros(self.num_vehicles, dtype=np.float32)\n",
    "        active_vehicle_one_hot[self.active_vehicle] = 1.0\n",
    "\n",
    "        current_positions = np.zeros(self.num_vehicles, dtype=np.float32)\n",
    "        for i, pos in enumerate(self.vehicle_positions):\n",
    "            current_positions[i] = pos / self.N  # normalize\n",
    "\n",
    "        return np.concatenate([\n",
    "            self.visited,\n",
    "            current_positions,\n",
    "            active_vehicle_one_hot\n",
    "        ]).astype(np.float32)"
   ]
  },
  {
   "cell_type": "code",
   "execution_count": 17,
   "id": "7ad96249",
   "metadata": {},
   "outputs": [
    {
     "name": "stdout",
     "output_type": "stream",
     "text": [
      "Reward: -27.0\n",
      "Reward: -48.0\n",
      "Reward: -49.0\n",
      "Reward: -100.0\n",
      "Reward: -100.0\n",
      "Reward: -100.0\n",
      "Reward: -100.0\n",
      "Reward: -100.0\n",
      "Reward: -100\n",
      "Reward: -100.0\n",
      "Reward: -100.0\n",
      "Reward: -100.0\n",
      "Reward: -100.0\n",
      "Reward: -100.0\n",
      "Reward: -100.0\n",
      "Reward: -100.0\n",
      "Reward: 68.0\n"
     ]
    }
   ],
   "source": [
    "# Example\n",
    "distance_matrix = np.random.randint(1, 100, size=(6, 6)).astype(np.float32)\n",
    "np.fill_diagonal(distance_matrix, 0)\n",
    "\n",
    "env = MultiCarTSPEnv(distance_matrix, num_vehicles=2)\n",
    "\n",
    "obs, _ = env.reset()\n",
    "done = False\n",
    "while not done:\n",
    "    action = env.action_space.sample()\n",
    "    obs, reward, done, _, info = env.step(action)\n",
    "    print(f\"Reward: {reward}\")"
   ]
  },
  {
   "cell_type": "code",
   "execution_count": 18,
   "id": "cf18c54c",
   "metadata": {},
   "outputs": [],
   "source": [
    "# ========= Generar matriz aleatoria de distancias =========\n",
    "def generate_random_distance_matrix(n_cities, seed=None):\n",
    "    if seed is not None:\n",
    "        np.random.seed(seed)\n",
    "    coords = np.random.rand(n_cities, 2) * 100  # coordenadas en un mapa 100x100\n",
    "    dist_matrix = np.linalg.norm(coords[:, None, :] - coords[None, :, :], axis=-1)\n",
    "    return dist_matrix, coords"
   ]
  },
  {
   "cell_type": "code",
   "execution_count": 19,
   "id": "4f29e078",
   "metadata": {},
   "outputs": [],
   "source": [
    "from stable_baselines3 import DQN"
   ]
  },
  {
   "cell_type": "code",
   "execution_count": 20,
   "id": "111812a4",
   "metadata": {},
   "outputs": [],
   "source": [
    "n_cities = 6  # puedes cambiarlo a 5, 7, 10...\n",
    "distance_matrix, coords = generate_random_distance_matrix(n_cities, seed=42)"
   ]
  },
  {
   "cell_type": "code",
   "execution_count": 21,
   "id": "8f127904",
   "metadata": {},
   "outputs": [
    {
     "data": {
      "text/plain": [
       "<stable_baselines3.dqn.dqn.DQN at 0x108896a50>"
      ]
     },
     "execution_count": 21,
     "metadata": {},
     "output_type": "execute_result"
    }
   ],
   "source": [
    "\n",
    "\n",
    "env = MultiCarTSPEnv(distance_matrix)\n",
    "\n",
    "model = DQN(\n",
    "    \"MlpPolicy\",\n",
    "    env,\n",
    "    verbose=0,\n",
    "    exploration_fraction=1.0,\n",
    "    exploration_initial_eps=1.0,\n",
    "    exploration_final_eps=0.05,\n",
    "    learning_starts=10_000,\n",
    "    train_freq=1,\n",
    "    buffer_size=10_000,\n",
    "    batch_size=64,\n",
    "    gamma=0.95,\n",
    "    target_update_interval=250\n",
    ")\n",
    "\n",
    "model.learn(total_timesteps=250_000)"
   ]
  },
  {
   "cell_type": "code",
   "execution_count": 22,
   "id": "4c5e911a",
   "metadata": {},
   "outputs": [
    {
     "name": "stdout",
     "output_type": "stream",
     "text": [
      "[0.  0.  1.  0.  0.  0.  0.4 0.4 1.  0. ]\n",
      "ACTION: 4\n",
      "OBS: [0.  0.  1.  0.  1.  0.  0.8 0.4 0.  1. ]\n",
      "REWARD: -70.91551038198544\n",
      "ACTION: 3\n",
      "OBS: [0.  0.  1.  1.  1.  0.  0.8 0.6 1.  0. ]\n",
      "REWARD: -71.69025114155171\n",
      "ACTION: 1\n",
      "OBS: [0.  1.  1.  1.  1.  0.  0.2 0.6 0.  1. ]\n",
      "REWARD: -17.05893848218244\n",
      "ACTION: 5\n",
      "OBS: [0.  1.  1.  1.  1.  1.  0.2 1.  1.  0. ]\n",
      "REWARD: -11.030351618150954\n",
      "ACTION: 0\n",
      "OBS: [1. 1. 1. 1. 1. 1. 0. 1. 0. 1.]\n",
      "REWARD: 49.82863989230551\n"
     ]
    }
   ],
   "source": [
    "obs, _ = env.reset(options = {\"start_city\":1})\n",
    "done = False\n",
    "print(obs)\n",
    "while not done:\n",
    "    action, _ = model.predict(obs, deterministic=True)\n",
    "    print(f\"ACTION: {action}\")\n",
    "    obs, reward, done, _, info = env.step(action)\n",
    "    print(f\"OBS: {obs}\")\n",
    "    print(f\"REWARD: {reward}\")"
   ]
  },
  {
   "cell_type": "code",
   "execution_count": 13,
   "id": "e749b0ec",
   "metadata": {},
   "outputs": [],
   "source": [
    "# ========= Generar matriz aleatoria de distancias =========\n",
    "def generate_random_distance_matrix(n_cities, seed=None):\n",
    "    if seed is not None:\n",
    "        np.random.seed(seed)\n",
    "    coords = np.random.rand(n_cities, 2) * 100  # coordenadas en un mapa 100x100\n",
    "    dist_matrix = np.linalg.norm(coords[:, None, :] - coords[None, :, :], axis=-1)\n",
    "    return dist_matrix, coords"
   ]
  },
  {
   "cell_type": "code",
   "execution_count": 14,
   "id": "cd7db955",
   "metadata": {},
   "outputs": [],
   "source": [
    "n_cities = 6  # puedes cambiarlo a 5, 7, 10...\n",
    "distance_matrix, coords = generate_random_distance_matrix(n_cities, seed=42)"
   ]
  },
  {
   "cell_type": "code",
   "execution_count": 15,
   "id": "8f5f2965",
   "metadata": {},
   "outputs": [
    {
     "data": {
      "text/plain": [
       "<stable_baselines3.dqn.dqn.DQN at 0x319356390>"
      ]
     },
     "execution_count": 15,
     "metadata": {},
     "output_type": "execute_result"
    }
   ],
   "source": [
    "env = TSPEnv(distance_matrix)\n",
    "\n",
    "model = DQN(\n",
    "    \"MlpPolicy\",\n",
    "    env,\n",
    "    verbose=0,\n",
    "    exploration_fraction=1.0,\n",
    "    exploration_initial_eps=1.0,\n",
    "    exploration_final_eps=0.05,\n",
    "    learning_starts=10000,\n",
    "    train_freq=1,\n",
    "    buffer_size=10_000,\n",
    "    batch_size=64,\n",
    "    gamma=0.95,\n",
    "    target_update_interval=250\n",
    ")\n",
    "\n",
    "model.learn(total_timesteps=150_000)"
   ]
  },
  {
   "cell_type": "code",
   "execution_count": 26,
   "id": "0d3692a6",
   "metadata": {},
   "outputs": [
    {
     "name": "stdout",
     "output_type": "stream",
     "text": [
      "ACTION: 1\n",
      "REWARD: -50.17136010769449\n",
      "ACTION: 4\n",
      "REWARD: -17.05893848218244\n",
      "ACTION: 0\n",
      "REWARD: -33.19807081074011\n",
      "ACTION: 5\n",
      "REWARD: -35.44757440621362\n",
      "ACTION: 0\n",
      "REWARD: -35.44757440621362\n",
      "ACTION: 2\n",
      "REWARD: -82.4215490573505\n",
      "ACTION: 0\n",
      "REWARD: -82.4215490573505\n",
      "ACTION: 3\n",
      "REWARD: -32.75536921225664\n",
      "ACTION: 0\n",
      "REWARD: 67.24463078774336\n"
     ]
    }
   ],
   "source": [
    "obs, _ = env.reset()\n",
    "done = False\n",
    "while not done:\n",
    "    action, _ = model.predict(obs, deterministic=True)\n",
    "    print(f\"ACTION: {action}\")\n",
    "    obs, reward, done, _, info = env.step(action)\n",
    "    print(f\"REWARD: {reward}\")"
   ]
  },
  {
   "cell_type": "code",
   "execution_count": null,
   "id": "d60460d9",
   "metadata": {},
   "outputs": [],
   "source": []
  },
  {
   "cell_type": "code",
   "execution_count": 13,
   "id": "6989350a",
   "metadata": {},
   "outputs": [
    {
     "data": {
      "text/plain": [
       "Box(0.0, 1.0, (12,), float32)"
      ]
     },
     "execution_count": 13,
     "metadata": {},
     "output_type": "execute_result"
    }
   ],
   "source": [
    "env.observation_space"
   ]
  }
 ],
 "metadata": {
  "kernelspec": {
   "display_name": "rl_course",
   "language": "python",
   "name": "python3"
  },
  "language_info": {
   "codemirror_mode": {
    "name": "ipython",
    "version": 3
   },
   "file_extension": ".py",
   "mimetype": "text/x-python",
   "name": "python",
   "nbconvert_exporter": "python",
   "pygments_lexer": "ipython3",
   "version": "3.12.9"
  }
 },
 "nbformat": 4,
 "nbformat_minor": 5
}
